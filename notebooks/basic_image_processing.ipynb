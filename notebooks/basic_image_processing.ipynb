{
 "cells": [
  {
   "cell_type": "markdown",
   "metadata": {},
   "source": [
    "## Setup"
   ]
  },
  {
   "cell_type": "code",
   "execution_count": 4,
   "metadata": {},
   "outputs": [],
   "source": [
    "# Modules\n",
    "import os\n",
    "import sys\n",
    "sys.path.append(os.path.join('..')) # Include the home dir in our path to be able to look for modules in the root of this project\n",
    "from utils.imutils import jimshow\n",
    "import numpy\n",
    "import cv2\n",
    "\n",
    "# Important paths\n",
    "img_dir = os.path.join('..', 'data', 'img', 'davinci')\n",
    "imgs = [file for file in os.listdir(img_dir) if file.endswith(\".jpg\")] # Returns all filenames of .jpgs in img_dir\n",
    "split_img_dir = os.path.join(img_dir, 'split') # ../data/img/davinci/split/ need to be created manually before writing files\n",
    "metadata_path = os.path.join(split_img_dir, 'metadata.csv')"
   ]
  },
  {
   "cell_type": "markdown",
   "metadata": {},
   "source": [
    "## Write headers to metadata file"
   ]
  },
  {
   "cell_type": "code",
   "execution_count": 5,
   "metadata": {},
   "outputs": [],
   "source": [
    "with open(metadata_path, 'w', encoding='utf-8') as fh_out:\n",
    "        fh_out.write(\"filename,width,height\\n\")"
   ]
  },
  {
   "cell_type": "markdown",
   "metadata": {},
   "source": [
    "## Create split images and write metadata"
   ]
  },
  {
   "cell_type": "code",
   "execution_count": 6,
   "metadata": {},
   "outputs": [],
   "source": [
    "for img_file in imgs: # Loop through filenames\n",
    "    img_path = os.path.join(img_dir, img_file)\n",
    "    img = cv2.imread(img_path) # Load image into memory\n",
    "    \n",
    "    height, width, _ = img.shape # Used to slice images by half the height / width\n",
    "    \n",
    "    # Dictionary allows us to iterate over the quadrants instead of hardcoding them when writing files\n",
    "    img_dict = {\n",
    "        'top_left': img[:height // 2, :width // 2], # Slicing of images\n",
    "        'top_right': img[:height // 2, width // 2:],\n",
    "        'bottom_left': img[height // 2:, :width // 2],\n",
    "        'bottom_right': img[height // 2:, width // 2:]\n",
    "    }\n",
    "    \n",
    "    basename, extension = os.path.splitext(img_file) # Splits 'image.jpg' into 'image' and '.jpg'\n",
    "    \n",
    "    for quadrant, sliced_img in img_dict.items():\n",
    "        filename = f\"{basename}_{quadrant}{extension}\" # 'image_top_left.jpg' etc\n",
    "        img_writepath = os.path.join(split_img_dir, filename) # '../data/img/davinci/split/image_top_left.jpg' etc\n",
    "        cv2.imwrite(img_writepath, sliced_img) # Write file to new directory\n",
    "        \n",
    "        height, width, _ = sliced_img.shape # Used to write data about the new sizes\n",
    "        \n",
    "        with open(metadata_path, 'a', encoding='utf-8') as fh_out: # Appends metadata of every split image's sizes to one .csv-file\n",
    "            fh_out.write(f\"{filename},{width},{height}\\n\")\n",
    "    \n",
    "    \n",
    "    "
   ]
  }
 ],
 "metadata": {
  "kernelspec": {
   "display_name": "Python 3",
   "language": "python",
   "name": "python3"
  },
  "language_info": {
   "codemirror_mode": {
    "name": "ipython",
    "version": 3
   },
   "file_extension": ".py",
   "mimetype": "text/x-python",
   "name": "python",
   "nbconvert_exporter": "python",
   "pygments_lexer": "ipython3",
   "version": "3.6.9"
  }
 },
 "nbformat": 4,
 "nbformat_minor": 2
}
