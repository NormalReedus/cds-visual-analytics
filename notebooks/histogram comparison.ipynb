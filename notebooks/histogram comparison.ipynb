{
 "cells": [
  {
   "cell_type": "markdown",
   "metadata": {},
   "source": [
    "## Todo:\n",
    "- Convert to script\n",
    "- Make it only work for command line\n",
    "- Annotate\n",
    "- Add more supported image types\n",
    "- Add argparser with options for normalize function, comparison function, and the args to the main function\n",
    "- Add more defensive statements\n",
    "- Add command line prints\n",
    "- Add multiprocessing"
   ]
  },
  {
   "cell_type": "code",
   "execution_count": 1,
   "metadata": {},
   "outputs": [],
   "source": [
    "import os\n",
    "import cv2\n",
    "import csv"
   ]
  },
  {
   "cell_type": "code",
   "execution_count": 2,
   "metadata": {},
   "outputs": [],
   "source": [
    "def valid_image(file, target_name):\n",
    "    return file != target_name and (file.endswith('.jpg') or file.endswith('.jpeg') or file.endswith('.png'))"
   ]
  },
  {
   "cell_type": "code",
   "execution_count": 3,
   "metadata": {},
   "outputs": [],
   "source": [
    "def color_histogram(image):\n",
    "    hist = cv2.calcHist([image], [0,1,2], None, [8,8,8], [0, 256, 0, 256, 0, 256])\n",
    "    normalized = cv2.normalize(hist, hist, 0, 255, cv2.NORM_MINMAX)\n",
    "    return normalized"
   ]
  },
  {
   "cell_type": "code",
   "execution_count": 4,
   "metadata": {},
   "outputs": [],
   "source": [
    "def compare_histograms(target_path, collection_dir, outpath):\n",
    "    target_name = os.path.split(target_path)[1]\n",
    "\n",
    "    collection = [file for file in os.listdir(collection_dir) if valid_image(file, target_name)]\n",
    "    \n",
    "    output = [('filename', 'distance')]\n",
    "    \n",
    "    target_image = cv2.imread(target_path)\n",
    "    \n",
    "    target_hist = color_histogram(target_image)\n",
    "    \n",
    "    for file in collection:\n",
    "        filepath = os.path.join(collection_dir, file)\n",
    "        \n",
    "        comparison_image = cv2.imread(filepath)\n",
    "        \n",
    "        comparison_hist = color_histogram(comparison_image)\n",
    "        \n",
    "        chi_square = cv2.compareHist(target_hist, comparison_hist, cv2.HISTCMP_CHISQR)\n",
    "        \n",
    "        output.append((file, round(chi_square, 2)))\n",
    "    \n",
    "    with open(outpath, 'w', encoding='utf-8') as fh:\n",
    "        csv.writer(fh).writerows(output)"
   ]
  },
  {
   "cell_type": "markdown",
   "metadata": {},
   "source": [
    "## Demo"
   ]
  },
  {
   "cell_type": "code",
   "execution_count": 5,
   "metadata": {
    "scrolled": true
   },
   "outputs": [],
   "source": [
    "target = os.path.join('..', 'data', 'img', 'davinci', 'Leonardo_da_Vinci_1.jpg')\n",
    "collection_dir = os.path.join('..', 'data', 'img', 'davinci')\n",
    "\n",
    "compare_histograms(target, collection_dir, './vincis.csv')"
   ]
  },
  {
   "cell_type": "code",
   "execution_count": null,
   "metadata": {},
   "outputs": [],
   "source": []
  }
 ],
 "metadata": {
  "kernelspec": {
   "display_name": "cv101",
   "language": "python",
   "name": "cv101"
  },
  "language_info": {
   "codemirror_mode": {
    "name": "ipython",
    "version": 3
   },
   "file_extension": ".py",
   "mimetype": "text/x-python",
   "name": "python",
   "nbconvert_exporter": "python",
   "pygments_lexer": "ipython3",
   "version": "3.6.9"
  }
 },
 "nbformat": 4,
 "nbformat_minor": 4
}
